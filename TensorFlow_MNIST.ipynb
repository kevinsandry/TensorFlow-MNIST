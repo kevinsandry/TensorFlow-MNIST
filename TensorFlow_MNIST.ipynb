{
  "nbformat": 4,
  "nbformat_minor": 0,
  "metadata": {
    "colab": {
      "name": "TensorFlow MNIST",
      "provenance": [],
      "toc_visible": true,
      "authorship_tag": "ABX9TyM26G9bAmZ7dxO5UihzY5dd",
      "include_colab_link": true
    },
    "kernelspec": {
      "name": "python3",
      "display_name": "Python 3"
    }
  },
  "cells": [
    {
      "cell_type": "markdown",
      "metadata": {
        "id": "view-in-github",
        "colab_type": "text"
      },
      "source": [
        "<a href=\"https://colab.research.google.com/github/kevinsandry/TensorFlow-MNIST/blob/master/TensorFlow_MNIST.ipynb\" target=\"_parent\"><img src=\"https://colab.research.google.com/assets/colab-badge.svg\" alt=\"Open In Colab\"/></a>"
      ]
    },
    {
      "cell_type": "markdown",
      "metadata": {
        "id": "fzJBoS3u5oB_",
        "colab_type": "text"
      },
      "source": [
        "#Import Packages"
      ]
    },
    {
      "cell_type": "code",
      "metadata": {
        "id": "LjpSPGEL5wR6",
        "colab_type": "code",
        "colab": {
          "base_uri": "https://localhost:8080/",
          "height": 35
        },
        "outputId": "8ef381c3-4a71-4fc6-bf11-6f9a5178fc34"
      },
      "source": [
        "import numpy as np\n",
        "import tensorflow as tf\n",
        "import tensorflow_datasets as tfds\n",
        "tf.test.gpu_device_name()\n"
      ],
      "execution_count": 1,
      "outputs": [
        {
          "output_type": "execute_result",
          "data": {
            "application/vnd.google.colaboratory.intrinsic+json": {
              "type": "string"
            },
            "text/plain": [
              "''"
            ]
          },
          "metadata": {
            "tags": []
          },
          "execution_count": 1
        }
      ]
    },
    {
      "cell_type": "markdown",
      "metadata": {
        "id": "AZHUhhI05s84",
        "colab_type": "text"
      },
      "source": [
        "#Data"
      ]
    },
    {
      "cell_type": "code",
      "metadata": {
        "id": "MLZ2liHHyAQL",
        "colab_type": "code",
        "colab": {}
      },
      "source": [
        "mnist_dataset, mnist_info = tfds.load(name='mnist', with_info=True,as_supervised=True)"
      ],
      "execution_count": 2,
      "outputs": []
    },
    {
      "cell_type": "code",
      "metadata": {
        "id": "GZxZVvauzd73",
        "colab_type": "code",
        "colab": {}
      },
      "source": [
        "mnist_train, mnist_test = mnist_dataset['train'], mnist_dataset['test']\n",
        "\n",
        "num_validation_samples = 0.1 * mnist_info.splits['train'].num_examples\n",
        "num_validation_samples = tf.cast(num_validation_samples, tf.int64)\n",
        "\n",
        "num_test_samples = mnist_info.splits['test'].num_examples\n",
        "num_test_samples = tf.cast(num_test_samples, tf.int64)\n",
        "\n",
        "def scale(image, label):\n",
        "  image = tf.cast(image, tf.float32)\n",
        "  image /= 255.\n",
        "  return image, label\n",
        "\n",
        "scaled_train_and_validation_data = mnist_train.map(scale)\n",
        "test_data = mnist_test.map(scale)"
      ],
      "execution_count": 3,
      "outputs": []
    },
    {
      "cell_type": "code",
      "metadata": {
        "id": "JXEZ4Di79Qkt",
        "colab_type": "code",
        "colab": {}
      },
      "source": [
        "BUFFER_SIZE = 10000\n",
        "\n",
        "shuffled_train_and_validation_data = scaled_train_and_validation_data.shuffle(BUFFER_SIZE)\n",
        "\n",
        "validation_data = shuffled_train_and_validation_data.take(num_validation_samples)\n",
        "\n",
        "train_data = shuffled_train_and_validation_data.skip(num_validation_samples)"
      ],
      "execution_count": 4,
      "outputs": []
    },
    {
      "cell_type": "code",
      "metadata": {
        "id": "vqrqrKAl-lmJ",
        "colab_type": "code",
        "colab": {}
      },
      "source": [
        "BATCH_SIZE = 100\n",
        "\n",
        "train_data = train_data.batch(BATCH_SIZE)\n",
        "validation_data = validation_data.batch(num_validation_samples)\n",
        "test_data = test_data.batch(num_test_samples)"
      ],
      "execution_count": 5,
      "outputs": []
    },
    {
      "cell_type": "code",
      "metadata": {
        "id": "h7FXeu5O_7v-",
        "colab_type": "code",
        "colab": {}
      },
      "source": [
        "validation_inputs, validation_targets = next(iter(validation_data))"
      ],
      "execution_count": 6,
      "outputs": []
    },
    {
      "cell_type": "markdown",
      "metadata": {
        "id": "GUyLcTX0D0eF",
        "colab_type": "text"
      },
      "source": [
        "#Outline the Model"
      ]
    },
    {
      "cell_type": "code",
      "metadata": {
        "id": "54HlM9GYD5Ar",
        "colab_type": "code",
        "colab": {}
      },
      "source": [
        "input_size = 784\n",
        "output_size = 10\n",
        "hidden_layer_size = 200\n",
        "\n",
        "model = tf.keras.Sequential([\n",
        "                             tf.keras.layers.Flatten(input_shape=(28,28,1)),\n",
        "                             tf.keras.layers.Dense(hidden_layer_size, activation='tanh'),\n",
        "                             tf.keras.layers.Dense(hidden_layer_size, activation='tanh'),\n",
        "                             tf.keras.layers.Dense(hidden_layer_size, activation='tanh'),\n",
        "\n",
        "\n",
        "                             \n",
        "                             tf.keras.layers.Dense(output_size, activation='softmax')\n",
        "])"
      ],
      "execution_count": 7,
      "outputs": []
    },
    {
      "cell_type": "markdown",
      "metadata": {
        "id": "Jve8j-V7SUaT",
        "colab_type": "text"
      },
      "source": [
        "# Choose the optimizer and the loss function"
      ]
    },
    {
      "cell_type": "code",
      "metadata": {
        "id": "PX2hkbn9SL-7",
        "colab_type": "code",
        "colab": {}
      },
      "source": [
        "model.compile(optimizer='adam', loss='sparse_categorical_crossentropy', metrics=['accuracy'])"
      ],
      "execution_count": 8,
      "outputs": []
    },
    {
      "cell_type": "markdown",
      "metadata": {
        "id": "Ut2dwDcQTAB5",
        "colab_type": "text"
      },
      "source": [
        "#Training"
      ]
    },
    {
      "cell_type": "code",
      "metadata": {
        "id": "TFFrBUxKTBMy",
        "colab_type": "code",
        "colab": {
          "base_uri": "https://localhost:8080/",
          "height": 555
        },
        "outputId": "d4e8c7ea-948c-40f6-be93-cdce8eb4a056"
      },
      "source": [
        "NUM_EPOCHS = 15\n",
        "\n",
        "model.fit(train_data, epochs=NUM_EPOCHS, validation_data=(validation_inputs, validation_targets), verbose=2)"
      ],
      "execution_count": 9,
      "outputs": [
        {
          "output_type": "stream",
          "text": [
            "Epoch 1/15\n",
            "540/540 - 10s - loss: 0.2812 - accuracy: 0.9159 - val_loss: 0.1611 - val_accuracy: 0.9528\n",
            "Epoch 2/15\n",
            "540/540 - 10s - loss: 0.1297 - accuracy: 0.9603 - val_loss: 0.1045 - val_accuracy: 0.9697\n",
            "Epoch 3/15\n",
            "540/540 - 9s - loss: 0.0882 - accuracy: 0.9719 - val_loss: 0.0847 - val_accuracy: 0.9747\n",
            "Epoch 4/15\n",
            "540/540 - 10s - loss: 0.0626 - accuracy: 0.9806 - val_loss: 0.0830 - val_accuracy: 0.9733\n",
            "Epoch 5/15\n",
            "540/540 - 10s - loss: 0.0515 - accuracy: 0.9834 - val_loss: 0.0642 - val_accuracy: 0.9812\n",
            "Epoch 6/15\n",
            "540/540 - 10s - loss: 0.0391 - accuracy: 0.9872 - val_loss: 0.0395 - val_accuracy: 0.9877\n",
            "Epoch 7/15\n",
            "540/540 - 10s - loss: 0.0306 - accuracy: 0.9901 - val_loss: 0.0451 - val_accuracy: 0.9853\n",
            "Epoch 8/15\n",
            "540/540 - 10s - loss: 0.0263 - accuracy: 0.9915 - val_loss: 0.0329 - val_accuracy: 0.9893\n",
            "Epoch 9/15\n",
            "540/540 - 10s - loss: 0.0236 - accuracy: 0.9927 - val_loss: 0.0310 - val_accuracy: 0.9903\n",
            "Epoch 10/15\n",
            "540/540 - 10s - loss: 0.0186 - accuracy: 0.9937 - val_loss: 0.0232 - val_accuracy: 0.9923\n",
            "Epoch 11/15\n",
            "540/540 - 10s - loss: 0.0156 - accuracy: 0.9950 - val_loss: 0.0169 - val_accuracy: 0.9953\n",
            "Epoch 12/15\n",
            "540/540 - 9s - loss: 0.0152 - accuracy: 0.9954 - val_loss: 0.0198 - val_accuracy: 0.9927\n",
            "Epoch 13/15\n",
            "540/540 - 10s - loss: 0.0140 - accuracy: 0.9952 - val_loss: 0.0265 - val_accuracy: 0.9903\n",
            "Epoch 14/15\n",
            "540/540 - 10s - loss: 0.0119 - accuracy: 0.9960 - val_loss: 0.0131 - val_accuracy: 0.9958\n",
            "Epoch 15/15\n",
            "540/540 - 10s - loss: 0.0110 - accuracy: 0.9964 - val_loss: 0.0100 - val_accuracy: 0.9968\n"
          ],
          "name": "stdout"
        },
        {
          "output_type": "execute_result",
          "data": {
            "text/plain": [
              "<tensorflow.python.keras.callbacks.History at 0x7f30f1569e10>"
            ]
          },
          "metadata": {
            "tags": []
          },
          "execution_count": 9
        }
      ]
    },
    {
      "cell_type": "markdown",
      "metadata": {
        "id": "57yPSwwPN28g",
        "colab_type": "text"
      },
      "source": [
        "#Test The Model"
      ]
    },
    {
      "cell_type": "code",
      "metadata": {
        "id": "-n0v8jEnY3xE",
        "colab_type": "code",
        "colab": {
          "base_uri": "https://localhost:8080/",
          "height": 35
        },
        "outputId": "8e3d3cbc-29aa-4108-d1cb-c17a17be0e84"
      },
      "source": [
        "test_loss, test_accuracy = model.evaluate(test_data)"
      ],
      "execution_count": 10,
      "outputs": [
        {
          "output_type": "stream",
          "text": [
            "1/1 [==============================] - 0s 10ms/step - loss: 0.0791 - accuracy: 0.9803\n"
          ],
          "name": "stdout"
        }
      ]
    },
    {
      "cell_type": "code",
      "metadata": {
        "id": "k-Xhw5B_P-L2",
        "colab_type": "code",
        "colab": {}
      },
      "source": [
        ""
      ],
      "execution_count": 9,
      "outputs": []
    }
  ]
}